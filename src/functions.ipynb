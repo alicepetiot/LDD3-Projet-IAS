{
 "cells": [
  {
   "cell_type": "code",
   "execution_count": 1,
   "metadata": {},
   "outputs": [],
   "source": [
    "import pandas as pd "
   ]
  },
  {
   "cell_type": "code",
   "execution_count": 2,
   "metadata": {},
   "outputs": [],
   "source": [
    "def get_rows_year(annee,df):\n",
    "    debut = f\"{annee}-01-01\"\n",
    "    fin = f\"{annee}-12-31\"\n",
    "    tmp_df = df.loc[(df['date'] > debut) & (df['date'] < fin)]\n",
    "    return tmp_df"
   ]
  },
  {
   "cell_type": "code",
   "execution_count": 3,
   "metadata": {},
   "outputs": [],
   "source": [
    "def mean_economy_match(df_economy):\n",
    "    df_economy = df_economy.assign(economy_1=\"\",economy_2=\"\")\n",
    "    match_id = df_economy[\"match_id\"].drop_duplicates().tolist()\n",
    "    for i in range(len(df_economy)):\n",
    "        economy_1,economy_2, cpt=0,0,0\n",
    "        \n",
    "        for j in range(9,39):\n",
    "            value = df_economy.iloc[i,j]\n",
    "            cpt+=1\n",
    "            if (value>=0):\n",
    "                economy_1 += value\n",
    "            else:\n",
    "                break\n",
    "                \n",
    "        for j in range(40,70):\n",
    "            value = df_economy.iloc[i,j]\n",
    "            if (value>=0):\n",
    "                economy_2 += value\n",
    "            else:\n",
    "                break\n",
    "        df_economy.at[i,\"economy_1\"], df_economy.at[i,\"economy_2\"]  = (economy_1/cpt)/5,(economy_2/cpt)/5     \n",
    "        \n",
    "    return df_economy "
   ]
  },
  {
   "cell_type": "code",
   "execution_count": 8,
   "metadata": {},
   "outputs": [],
   "source": [
    "\"\"\"\n",
    "    @Function_name : \n",
    "        - players_to_match\n",
    "    @Parameters : \n",
    "        - [dataframe] df_players :\n",
    "    @Return :\n",
    "        - [dataframe] dataframe ['date','event_id','match_id','team_1','team_2','country_1','country_2','kda_1','kda_2','hs_1','hs_2']\n",
    "    @Description : \n",
    "        Dans df_players on a pour un match les statistiques de chaque équipes.\n",
    "        Soit 10 lignes dont 5 qui appartiennent à l'équipe 1 et les 5 autres à l'équipe 2.\n",
    "        Le but de cette fonction est de calculer le kda moyen de chacune des équipes et de les regrouper sur une ligne pour un match.\n",
    "        On stocke les résultats dans le nouveau dataframe qu'on a construit.\n",
    "\"\"\"\n",
    "\n",
    "def players_to_match(df_players):\n",
    "    match_id = df_players[\"match_id\"].drop_duplicates().tolist() #liste des ids des matchs présent dans la table players\n",
    "    #on créé un nouveau dataframe qui contiendra toutes les informations relatives aux equipes pendant un match\n",
    "    dataframe = pd.DataFrame(columns=['date','event_id','match_id','team_1','team_2','country_1','country_2','kda_1','kda_2','hs_1','hs_2'])\n",
    "    m = 0 #initialisation des lignes de notre nouveaux dataframe pour savoir où on en est\n",
    "    \n",
    "    #pour tous les matchs dans players on effectue le traitement ci-dessous\n",
    "    for idm in match_id: \n",
    "        df = df_players[df_players[\"match_id\"] == idm] #permet d'obtenir les 10 lignes relatives au match d'id idm\n",
    "        #on initialise les variables qu'on va calculer (kda = ratio kills/deaths/assists, hs = headshot, t1(resp 2) = name_team_1(2), l = lines in df \n",
    "        kda1, kda2, hs1, hs2, t1, t2, l = 0, 0, 0, 0, df.iloc[0,2], df.iloc[0,3],0 \n",
    "        dataframe.at[m,\"date\"],dataframe.at[m,\"event_id\"],dataframe.at[m,\"match_id\"] = df.iloc[0,0], df.iloc[0,7], df.iloc[0,6] #on set déjà date, match id et event id\n",
    "        \n",
    "        #pour un match qui a bien 10 joueurs\n",
    "        if len(df)==10:\n",
    "            for i in range(0,10):\n",
    "                #on trouve le nom de la team, ces kills, assists, deaths et head shot \n",
    "                t, k, a, d, hs = df.iloc[i,2], df.iloc[i,13], df.iloc[i,14], df.iloc[i,15], df.iloc[i,16]\n",
    "                \n",
    "                if t == t1:\n",
    "                    #si dans team il s'agit de t1 alors on calcul son kda / hs qu'on ajoute à kda1 et hs1 ainsi que son pays\n",
    "                    kda1 = kda1 + k + a if d == 0 else kda1 + (k + a)/d\n",
    "                    hs1 = hs1 + hs\n",
    "                    dataframe.at[m,\"country_1\"] = df.iloc[l,4]\n",
    " \n",
    "                else: \n",
    "                    #inversement pour kda2,hs2 et le pays\n",
    "                    kda2 = kda2 + k + a if d == 0 else kda2 + (k + a)/d\n",
    "                    hs2 = hs2 + hs\n",
    "                    dataframe.at[m,\"country_2\"] = df.iloc[l,4]\n",
    "                l += 1 #on avance d'une ligne \n",
    "            #on oublie par d'ajouter à la ligne m de notre nouveaux dataframe les valeurs qu'on vient de calculer \n",
    "            dataframe.at[m,\"team_1\"],dataframe.at[m,\"team_2\"] = t1,t2\n",
    "            dataframe.at[m,\"kda_1\"],dataframe.at[m,\"kda_2\"]  = kda1/5,kda2/5\n",
    "            dataframe.at[m,\"hs_1\"], dataframe.at[m,\"hs_2\"] = hs1/5, hs2/5\n",
    "            m += 1 #on change de match et donc de ligne dans notre dataframe \n",
    "    return dataframe  "
   ]
  },
  {
   "cell_type": "code",
   "execution_count": 5,
   "metadata": {},
   "outputs": [],
   "source": [
    "def switch_teams_res_eco(df_res,df_eco):  \n",
    "    match_id = df_res[\"match_id\"].drop_duplicates().tolist()\n",
    "    for m in match_id:\n",
    "        df1, df2 = df_res[df_res[\"match_id\"]==m], df_eco[df_eco[\"match_id\"]==m]\n",
    "        ldf1, ldf2 = df1.index.tolist(), df2.index.tolist()\n",
    "        sdf1, sdf2 = len(ldf1), len(ldf2)\n",
    "        if sdf1 != 0 and sdf2 != 0:\n",
    "            for l1 in range(sdf1):\n",
    "                for l2 in range(sdf2):\n",
    "                    if (df1.iloc[l1,3] == df2.iloc[l2,5]) and (df1.iloc[l1,1] == df2.iloc[l2,4]):\n",
    "                        df_eco.at[ldf2[l2],\"team_1\"] = df1.iloc[l1,2]\n",
    "                        df_eco.at[ldf2[l2],\"team_2\"] = df1.iloc[l1,1]\n",
    "                        tmp = df2.iloc[l2,6]\n",
    "                        df_eco.at[ldf2[l2],\"economy_1\"] = df2.iloc[l2,7]\n",
    "                        df_eco.at[ldf2[l2],\"economy_2\"] = tmp\n",
    "    return df_eco"
   ]
  },
  {
   "cell_type": "code",
   "execution_count": 3,
   "metadata": {},
   "outputs": [],
   "source": [
    "def ratio_result(df_res):  \n",
    "    new = pd.DataFrame(columns=[\"date\",\"_map\",\"result_p1\",\"economy\",\"rank\",\"kda\",\"match_winner\",\"hs\"])\n",
    "    for l in range(len(df_res)):\n",
    "        new.at[l,\"date\"]= df_res.iloc[l,0]\n",
    "        new.at[l,\"_map\"]= df_res.iloc[l,1]\n",
    "        new.at[l,\"match_winner\"]= df_res.iloc[l,8]\n",
    "        new.at[l,\"result_p1\"]=0 if df_res.iloc[l,3]==0 else df_res.iloc[l,2]/df_res.iloc[l,3]\n",
    "        new.at[l,\"economy\"]=0 if df_res.iloc[l,10]==0 else df_res.iloc[l,9]/df_res.iloc[l,10]\n",
    "        new.at[l,\"rank\"]=0 if df_res.iloc[l,7]==0 else df_res.iloc[l,6]/df_res.iloc[l,7]\n",
    "        new.at[l,\"kda\"]=0 if df_res.iloc[l,12]==0 else df_res.iloc[l,11]/df_res.iloc[l,12]\n",
    "        new.at[l,\"hs\"]=0 if df_res.iloc[l,14]==0 else df_res.iloc[l,13]/df_res.iloc[l,14]\n",
    "    \n",
    "    new.loc[:,'date'] = new.loc[:,'date'].astype(float)\n",
    "    new.loc[:,'_map'] = new.loc[:,'_map'].astype(str)\n",
    "    new.loc[:,'match_winner'] = new.loc[:,'match_winner'].astype(float)\n",
    "    new.loc[:,'result_p1'] = new.loc[:,'result_p1'].astype(float)\n",
    "    new.loc[:,'economy'] = new.loc[:,'economy'].astype(float)\n",
    "    new.loc[:,'rank'] = new.loc[:,'rank'].astype(float)\n",
    "    new.loc[:,'kda'] = new.loc[:,'kda'].astype(float)\n",
    "    new.loc[:,'hs'] = new.loc[:,'hs'].astype(float)\n",
    "    return new"
   ]
  },
  {
   "cell_type": "code",
   "execution_count": 2,
   "metadata": {},
   "outputs": [],
   "source": [
    "def standardize_df(df):\n",
    "    '''Standardize all the columns except the last one (target values).'''\n",
    "    df_scaled = (df-df.mean())/df.std()\n",
    "    df_scaled.iloc[:,0] = df.iloc[:,0]\n",
    "    df_scaled.iloc[:,5] = df.iloc[:,5]\n",
    "    return df_scaled"
   ]
  },
  {
   "cell_type": "code",
   "execution_count": 1,
   "metadata": {},
   "outputs": [],
   "source": [
    "def standardize_zscore(df):\n",
    "    '''Standardize all the columns except the last one (target values).'''\n",
    "    df_scaled = (df-df.mean())/df.std()\n",
    "    df_scaled.iloc[:,0] = df.iloc[:,0]\n",
    "    df_scaled.iloc[:,5] = df.iloc[:,5]\n",
    "    return df_scaled"
   ]
  },
  {
   "cell_type": "code",
   "execution_count": null,
   "metadata": {},
   "outputs": [],
   "source": []
  }
 ],
 "metadata": {
  "interpreter": {
   "hash": "916dbcbb3f70747c44a77c7bcd40155683ae19c65e1c03b4aa3499c5328201f1"
  },
  "kernelspec": {
   "display_name": "Python 3 (ipykernel)",
   "language": "python",
   "name": "python3"
  },
  "language_info": {
   "codemirror_mode": {
    "name": "ipython",
    "version": 3
   },
   "file_extension": ".py",
   "mimetype": "text/x-python",
   "name": "python",
   "nbconvert_exporter": "python",
   "pygments_lexer": "ipython3",
   "version": "3.8.10"
  }
 },
 "nbformat": 4,
 "nbformat_minor": 4
}
